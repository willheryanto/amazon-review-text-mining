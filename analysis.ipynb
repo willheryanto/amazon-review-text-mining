{
 "cells": [
  {
   "cell_type": "markdown",
   "id": "5b624d6d-5843-4997-a2e9-e0bddf8b3c0d",
   "metadata": {},
   "source": [
    "# Init"
   ]
  },
  {
   "cell_type": "code",
   "execution_count": 1,
   "id": "7ecdbe9c-7ce2-4019-b96b-6c701bd4b6e1",
   "metadata": {},
   "outputs": [],
   "source": [
    "import gzip\n",
    "\n",
    "import numpy as np\n",
    "import pandas as pd\n",
    "\n",
    "pd.set_option(\"display.max_columns\", None)\n",
    "pd.set_option(\"display.max_colwidth\", None)"
   ]
  },
  {
   "cell_type": "markdown",
   "id": "512bbcbe-6145-4b75-b746-0e804a087c7d",
   "metadata": {},
   "source": [
    "Convert `gzip` into Dataframe."
   ]
  },
  {
   "cell_type": "code",
   "execution_count": 2,
   "id": "30af6fff-46ce-4a9e-bba8-754fa20960f9",
   "metadata": {},
   "outputs": [],
   "source": [
    "df = pd.DataFrame([eval(l) for l in gzip.open(\"./data.json.gz\")])"
   ]
  },
  {
   "cell_type": "markdown",
   "id": "e219e3a5-ed05-4921-909b-24707d3278b0",
   "metadata": {},
   "source": [
    "Sample of the data."
   ]
  },
  {
   "cell_type": "code",
   "execution_count": 3,
   "id": "d120bd19-2d2b-4ff5-9f52-bd43dc759d37",
   "metadata": {},
   "outputs": [
    {
     "data": {
      "text/html": [
       "<div>\n",
       "<style scoped>\n",
       "    .dataframe tbody tr th:only-of-type {\n",
       "        vertical-align: middle;\n",
       "    }\n",
       "\n",
       "    .dataframe tbody tr th {\n",
       "        vertical-align: top;\n",
       "    }\n",
       "\n",
       "    .dataframe thead th {\n",
       "        text-align: right;\n",
       "    }\n",
       "</style>\n",
       "<table border=\"1\" class=\"dataframe\">\n",
       "  <thead>\n",
       "    <tr style=\"text-align: right;\">\n",
       "      <th></th>\n",
       "      <th>reviewerID</th>\n",
       "      <th>asin</th>\n",
       "      <th>reviewerName</th>\n",
       "      <th>helpful</th>\n",
       "      <th>reviewText</th>\n",
       "      <th>overall</th>\n",
       "      <th>summary</th>\n",
       "      <th>unixReviewTime</th>\n",
       "      <th>reviewTime</th>\n",
       "    </tr>\n",
       "  </thead>\n",
       "  <tbody>\n",
       "    <tr>\n",
       "      <th>0</th>\n",
       "      <td>AIXZKN4ACSKI</td>\n",
       "      <td>1881509818</td>\n",
       "      <td>David Briner</td>\n",
       "      <td>[0, 0]</td>\n",
       "      <td>This came in on time and I am veru happy with it, I haved used it already and it makes taking out the pins in my glock 32 very easy</td>\n",
       "      <td>5.0</td>\n",
       "      <td>Woks very good</td>\n",
       "      <td>1390694400</td>\n",
       "      <td>01 26, 2014</td>\n",
       "    </tr>\n",
       "    <tr>\n",
       "      <th>1</th>\n",
       "      <td>A1L5P841VIO02V</td>\n",
       "      <td>1881509818</td>\n",
       "      <td>Jason A. Kramer</td>\n",
       "      <td>[1, 1]</td>\n",
       "      <td>I had a factory Glock tool that I was using for my Glock 26, 27, and 17.  I've since lost it and had needed another.  Since I've used Ghost products prior, and know that they are reliable, I had decided to order this one.  Sure enough, this is just as good as a factory tool.</td>\n",
       "      <td>5.0</td>\n",
       "      <td>Works as well as the factory tool</td>\n",
       "      <td>1328140800</td>\n",
       "      <td>02 2, 2012</td>\n",
       "    </tr>\n",
       "    <tr>\n",
       "      <th>2</th>\n",
       "      <td>AB2W04NI4OEAD</td>\n",
       "      <td>1881509818</td>\n",
       "      <td>J. Fernald</td>\n",
       "      <td>[2, 2]</td>\n",
       "      <td>If you don't have a 3/32 punch or would like to have one in your Glock bag, this is okay.  The butt end of it is handy for pushing pins back in place.  If you already have a 3/32 punch and don't need another, don't both with this one.</td>\n",
       "      <td>4.0</td>\n",
       "      <td>It's a punch, that's all.</td>\n",
       "      <td>1330387200</td>\n",
       "      <td>02 28, 2012</td>\n",
       "    </tr>\n",
       "    <tr>\n",
       "      <th>3</th>\n",
       "      <td>A148SVSWKTJKU6</td>\n",
       "      <td>1881509818</td>\n",
       "      <td>Jusitn A. Watts \"Maverick9614\"</td>\n",
       "      <td>[0, 0]</td>\n",
       "      <td>This works no better than any 3/32 punch you would find at the hardware store. Actually, I think you would be better with a regular punch as it has more to hold on to.</td>\n",
       "      <td>4.0</td>\n",
       "      <td>It's a punch with a Glock logo.</td>\n",
       "      <td>1328400000</td>\n",
       "      <td>02 5, 2012</td>\n",
       "    </tr>\n",
       "    <tr>\n",
       "      <th>4</th>\n",
       "      <td>AAAWJ6LW9WMOO</td>\n",
       "      <td>1881509818</td>\n",
       "      <td>Material Man</td>\n",
       "      <td>[0, 0]</td>\n",
       "      <td>I purchased this thinking maybe I need a special tool to easily pop off my base plates for my magazines, but it does the same as a regular punch tool. Glock mags are a pain to get the base plates off.  The tool does not really make a difference.</td>\n",
       "      <td>4.0</td>\n",
       "      <td>Ok,tool does what a regular punch does.</td>\n",
       "      <td>1366675200</td>\n",
       "      <td>04 23, 2013</td>\n",
       "    </tr>\n",
       "  </tbody>\n",
       "</table>\n",
       "</div>"
      ],
      "text/plain": [
       "       reviewerID        asin                    reviewerName helpful  \\\n",
       "0    AIXZKN4ACSKI  1881509818                    David Briner  [0, 0]   \n",
       "1  A1L5P841VIO02V  1881509818                 Jason A. Kramer  [1, 1]   \n",
       "2   AB2W04NI4OEAD  1881509818                      J. Fernald  [2, 2]   \n",
       "3  A148SVSWKTJKU6  1881509818  Jusitn A. Watts \"Maverick9614\"  [0, 0]   \n",
       "4   AAAWJ6LW9WMOO  1881509818                    Material Man  [0, 0]   \n",
       "\n",
       "                                                                                                                                                                                                                                                                            reviewText  \\\n",
       "0                                                                                                                                                  This came in on time and I am veru happy with it, I haved used it already and it makes taking out the pins in my glock 32 very easy   \n",
       "1  I had a factory Glock tool that I was using for my Glock 26, 27, and 17.  I've since lost it and had needed another.  Since I've used Ghost products prior, and know that they are reliable, I had decided to order this one.  Sure enough, this is just as good as a factory tool.   \n",
       "2                                           If you don't have a 3/32 punch or would like to have one in your Glock bag, this is okay.  The butt end of it is handy for pushing pins back in place.  If you already have a 3/32 punch and don't need another, don't both with this one.   \n",
       "3                                                                                                              This works no better than any 3/32 punch you would find at the hardware store. Actually, I think you would be better with a regular punch as it has more to hold on to.   \n",
       "4                                I purchased this thinking maybe I need a special tool to easily pop off my base plates for my magazines, but it does the same as a regular punch tool. Glock mags are a pain to get the base plates off.  The tool does not really make a difference.   \n",
       "\n",
       "   overall                                  summary  unixReviewTime  \\\n",
       "0      5.0                           Woks very good      1390694400   \n",
       "1      5.0        Works as well as the factory tool      1328140800   \n",
       "2      4.0                It's a punch, that's all.      1330387200   \n",
       "3      4.0          It's a punch with a Glock logo.      1328400000   \n",
       "4      4.0  Ok,tool does what a regular punch does.      1366675200   \n",
       "\n",
       "    reviewTime  \n",
       "0  01 26, 2014  \n",
       "1   02 2, 2012  \n",
       "2  02 28, 2012  \n",
       "3   02 5, 2012  \n",
       "4  04 23, 2013  "
      ]
     },
     "execution_count": 3,
     "metadata": {},
     "output_type": "execute_result"
    }
   ],
   "source": [
    "df.head()"
   ]
  },
  {
   "cell_type": "code",
   "execution_count": 4,
   "id": "60c059fc-d811-4abe-9359-402529aedd54",
   "metadata": {},
   "outputs": [
    {
     "name": "stdout",
     "output_type": "stream",
     "text": [
      "<class 'pandas.core.frame.DataFrame'>\n",
      "RangeIndex: 296337 entries, 0 to 296336\n",
      "Data columns (total 9 columns):\n",
      " #   Column          Non-Null Count   Dtype  \n",
      "---  ------          --------------   -----  \n",
      " 0   reviewerID      296337 non-null  object \n",
      " 1   asin            296337 non-null  object \n",
      " 2   reviewerName    294935 non-null  object \n",
      " 3   helpful         296337 non-null  object \n",
      " 4   reviewText      296337 non-null  object \n",
      " 5   overall         296337 non-null  float64\n",
      " 6   summary         296337 non-null  object \n",
      " 7   unixReviewTime  296337 non-null  int64  \n",
      " 8   reviewTime      296337 non-null  object \n",
      "dtypes: float64(1), int64(1), object(7)\n",
      "memory usage: 20.3+ MB\n"
     ]
    }
   ],
   "source": [
    "df.info()"
   ]
  },
  {
   "cell_type": "markdown",
   "id": "114d94ba-403b-4f12-9a8b-9e54f7eb5584",
   "metadata": {},
   "source": [
    "Timestamp range of the dataset."
   ]
  },
  {
   "cell_type": "code",
   "execution_count": 5,
   "id": "d8471098-1c55-4cf5-afd1-bf402abb8a35",
   "metadata": {},
   "outputs": [
    {
     "data": {
      "text/plain": [
       "(Timestamp('2002-03-07 00:00:00'), Timestamp('2014-07-23 00:00:00'))"
      ]
     },
     "execution_count": 5,
     "metadata": {},
     "output_type": "execute_result"
    }
   ],
   "source": [
    "timestamp = pd.to_datetime(df[\"unixReviewTime\"], unit=\"s\")\n",
    "timestamp.min(), timestamp.max()"
   ]
  },
  {
   "cell_type": "markdown",
   "id": "755d5c30-faae-40cf-9b6d-3f6a40bbf279",
   "metadata": {},
   "source": [
    "# Preprocessing"
   ]
  },
  {
   "cell_type": "code",
   "execution_count": 6,
   "id": "21cd4c8e-7e34-4d3e-95bf-dee2d1ef8207",
   "metadata": {},
   "outputs": [],
   "source": [
    "from nltk import word_tokenize\n",
    "from nltk.corpus import stopwords, wordnet\n",
    "from nltk.stem.wordnet import WordNetLemmatizer\n",
    "from nltk.tokenize import RegexpTokenizer\n",
    "\n",
    "stop_words = stopwords.words(\"english\")"
   ]
  },
  {
   "cell_type": "markdown",
   "id": "adef9552-714d-4fbf-835e-0d70b0bdf4b1",
   "metadata": {},
   "source": [
    "Removing stop words from review text."
   ]
  },
  {
   "cell_type": "code",
   "execution_count": 7,
   "id": "4e5a5b89-f27a-4c6d-a11e-c23fc3dff229",
   "metadata": {},
   "outputs": [],
   "source": [
    "wordnet_lemmatizer = WordNetLemmatizer()\n",
    "tokenizer = RegexpTokenizer(r\"[a-z]+\")\n",
    "\n",
    "\n",
    "def preprocess(document):\n",
    "    document = document.lower()  # Convert to lowercase\n",
    "    words = tokenizer.tokenize(document)  # Tokenize\n",
    "    words = [w for w in words if not w in stop_words]  # Removing stopwords\n",
    "    # Lemmatizing\n",
    "    for pos in [wordnet.NOUN, wordnet.VERB, wordnet.ADJ, wordnet.ADV]:\n",
    "        words = [wordnet_lemmatizer.lemmatize(x, pos) for x in words]\n",
    "    return \" \".join(words)\n",
    "\n",
    "\n",
    "processed_text = df[\"reviewText\"].apply(preprocess)"
   ]
  },
  {
   "cell_type": "markdown",
   "id": "16bb4bd2-3b93-47cb-a588-56eabdce324d",
   "metadata": {},
   "source": [
    "Sample of text pre and post removing stopwords."
   ]
  },
  {
   "cell_type": "code",
   "execution_count": 8,
   "id": "7a0c53ff-709d-4d78-90f9-9e72966214bd",
   "metadata": {},
   "outputs": [
    {
     "name": "stdout",
     "output_type": "stream",
     "text": [
      "Pre: This came in on time and I am veru happy with it, I haved used it already and it makes taking out the pins in my glock 32 very easy\n",
      "Post: come time veru happy have use already make take pin glock easy\n"
     ]
    }
   ],
   "source": [
    "print(\"Pre:\", df[\"reviewText\"][0])\n",
    "print(\"Post:\", processed_text[0])"
   ]
  },
  {
   "cell_type": "markdown",
   "id": "35920e2a-2b09-4220-9a78-fbe303ab6ae2",
   "metadata": {},
   "source": [
    "Create binary feature to differentiate between positive and negative review."
   ]
  },
  {
   "cell_type": "code",
   "execution_count": 9,
   "id": "0efeb396-848f-4b31-ac78-1b2bd57134b4",
   "metadata": {},
   "outputs": [],
   "source": [
    "def cat_is_positive(x):\n",
    "    if x > 3:\n",
    "        return 1\n",
    "    return 0\n",
    "\n",
    "\n",
    "is_positive = df.overall.apply(cat_is_positive)"
   ]
  },
  {
   "cell_type": "markdown",
   "id": "c0e9c6db-6dee-4d2d-aeaf-cf4347a9ff55",
   "metadata": {},
   "source": [
    "# Models"
   ]
  },
  {
   "cell_type": "code",
   "execution_count": 10,
   "id": "ddfeb048-8b51-4c10-a72f-2890a77bb96c",
   "metadata": {},
   "outputs": [],
   "source": [
    "from sklearn.feature_extraction.text import CountVectorizer\n",
    "from sklearn.model_selection import train_test_split\n",
    "\n",
    "X_train, X_test, y_train, y_test = train_test_split(\n",
    "    processed_text, is_positive, random_state=42\n",
    ")\n",
    "\n",
    "vectorizer = CountVectorizer(min_df=5).fit(X_train)\n",
    "X_train = vectorizer.transform(X_train)\n",
    "X_test = vectorizer.transform(X_test)"
   ]
  },
  {
   "cell_type": "code",
   "execution_count": 11,
   "id": "71e13900-8e5c-44fc-be3c-4820e27d33d2",
   "metadata": {},
   "outputs": [
    {
     "name": "stdout",
     "output_type": "stream",
     "text": [
      "Number of features: 18897\n",
      "Show some feature names : \n",
      " ['aa' 'atlas' 'breathe' 'cmp' 'dayhike' 'eas' 'fitbit' 'groupset'\n",
      " 'inactivity' 'lace' 'metel' 'oahu' 'pine' 'rank' 'run' 'slot' 'sunrise'\n",
      " 'trailer' 'vinci']\n"
     ]
    }
   ],
   "source": [
    "feature_names = vectorizer.get_feature_names_out()\n",
    "print(\"Number of features: {}\".format(len(feature_names)))\n",
    "print(\"Show some feature names : \\n\", feature_names[::1000])"
   ]
  },
  {
   "cell_type": "code",
   "execution_count": 13,
   "id": "2a8e34bb-1915-44c2-84df-9ac291c79229",
   "metadata": {},
   "outputs": [
    {
     "name": "stdout",
     "output_type": "stream",
     "text": [
      "Mean cross-validation accuracy: 0.862\n"
     ]
    }
   ],
   "source": [
    "from sklearn.model_selection import cross_val_score\n",
    "from sklearn.naive_bayes import MultinomialNB\n",
    "\n",
    "scores = cross_val_score(MultinomialNB(), X_train, y_train, cv=5)\n",
    "print(\"Mean cross-validation accuracy: {:.3f}\".format(np.mean(scores)))"
   ]
  },
  {
   "cell_type": "code",
   "execution_count": 14,
   "id": "6fe6e37e-469b-4bb7-b122-0ff2088a830d",
   "metadata": {},
   "outputs": [
    {
     "name": "stdout",
     "output_type": "stream",
     "text": [
      "\n",
      "Accuracy on validation set: 0.8614\n",
      "\n",
      "Classification report : \n",
      "               precision    recall  f1-score   support\n",
      "\n",
      "           0       0.52      0.48      0.50     10754\n",
      "           1       0.91      0.93      0.92     63331\n",
      "\n",
      "    accuracy                           0.86     74085\n",
      "   macro avg       0.72      0.70      0.71     74085\n",
      "weighted avg       0.86      0.86      0.86     74085\n",
      "\n",
      "\n",
      "Confusion Matrix : \n",
      " [[ 5177  5577]\n",
      " [ 4688 58643]]\n"
     ]
    }
   ],
   "source": [
    "from sklearn.metrics import accuracy_score, classification_report, confusion_matrix\n",
    "\n",
    "\n",
    "def model_evaluation(predictions, y_test):\n",
    "    \"\"\"\n",
    "    Print model evaluation to predicted result\n",
    "    \"\"\"\n",
    "    print(\n",
    "        \"\\nAccuracy on validation set: {:.4f}\".format(\n",
    "            accuracy_score(y_test, predictions)\n",
    "        )\n",
    "    )\n",
    "    print(\n",
    "        \"\\nClassification report : \\n\",\n",
    "        classification_report(y_test, predictions),\n",
    "    )\n",
    "    print(\"\\nConfusion Matrix : \\n\", confusion_matrix(y_test, predictions))\n",
    "\n",
    "\n",
    "mnb = MultinomialNB()\n",
    "mnb.fit(X_train, y_train)\n",
    "predictions = mnb.predict(X_test)\n",
    "model_evaluation(predictions, y_test)"
   ]
  }
 ],
 "metadata": {
  "kernelspec": {
   "display_name": "Python 3 (ipykernel)",
   "language": "python",
   "name": "python3"
  },
  "language_info": {
   "codemirror_mode": {
    "name": "ipython",
    "version": 3
   },
   "file_extension": ".py",
   "mimetype": "text/x-python",
   "name": "python",
   "nbconvert_exporter": "python",
   "pygments_lexer": "ipython3",
   "version": "3.9.7"
  }
 },
 "nbformat": 4,
 "nbformat_minor": 5
}
